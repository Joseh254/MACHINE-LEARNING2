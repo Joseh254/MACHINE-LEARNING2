{
 "cells": [
  {
   "cell_type": "markdown",
   "metadata": {},
   "source": [
    "import pandas as pd\n",
    "from sklearn.tree import DecisionTreeClassifier\n",
    "\n",
    "music_data=pd.read_csv('C:\\\\Users\\\\njeri\\\\OneDrive\\\\Desktop\\\\Machine Learning\\\\music.csv)\n",
    "\n",
    "X=music_data.drop(columns=['genre'])\n",
    "y=music_data['genre']\n",
    "\n",
    "model=DecissionTreeClassifier()\n",
    "model.fit(X,y)\n",
    "\n",
    "prediction=model.predict([[20,0],[30,1]])\n",
    "print(prediction)"
   ]
  }
 ],
 "metadata": {
  "language_info": {
   "name": "python"
  }
 },
 "nbformat": 4,
 "nbformat_minor": 2
}
